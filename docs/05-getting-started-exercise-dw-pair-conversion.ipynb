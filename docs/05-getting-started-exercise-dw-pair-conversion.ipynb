{
 "cells": [
  {
   "cell_type": "markdown",
   "metadata": {},
   "source": [
    "# Exercise 01: Domain wall pair conversion\n",
    "\n",
    "We want to simulate a domain wall conversion in a two-dimensional thin film sample with:\n",
    "\n",
    "- exchange energy constant $A = 15 \\,\\text{pJ}\\,\\text{m}^{-1}$,\n",
    "- Dzyaloshinskii-Moriya energy constant $D = 3 \\,\\text{mJ}\\,\\text{m}^{-2}$,\n",
    "- uniaxial anisotropy constant $K = 0.5 \\,\\text{MJ}\\,\\text{m}^{-3}$ with $\\hat{\\mathbf{u}} = (0, 0, 1)$ in the out of plane direction,\n",
    "- gyrotropic ratio $\\gamma = 2.211 \\times 10^{5} \\,\\text{m}\\,\\text{A}^{-1}\\,\\text{s}^{-1}$, and\n",
    "- Gilbert damping $\\alpha=0.3$.\n",
    "\n",
    "Please carry out the following steps:\n",
    "\n",
    "1. Create the following geometry with discretisation cell size $(2 \\,\\text{nm}, 2 \\,\\text{nm}, 2 \\,\\text{nm})$.\n",
    "    \n",
    "    <img src=\"figures/dw_pair_conversion_geometry.png\" width=\"400\">  \n",
    "\n",
    "2. Initialise the magnetisation so that when relaxes, a domain pair is present in the narrower part of the geometry.\n",
    "\n",
    "3. Relax the system. Is a domain wall pair contained in the constrained part?\n",
    "\n",
    "4. Apply the spin polarised current in the positive $x$ direction with velocity $\\mathbf{u} = (400, 0, 0) \\,\\text{m}\\,\\text{s}^{-1}$, with $\\beta=0.5$.\n",
    "\n",
    "5. Evolve the system over $0.2 \\,\\text{ns}$. What did you get? [1]\n",
    "\n",
    "#### References\n",
    "\n",
    "[1] Zhou, Y., & Ezawa, M. (2014). A reversible conversion between a skyrmion and a domain-wall pair in a junction geometry. *Nature Communications* **5**, 8. https://doi.org/10.1038/ncomms5652\n",
    "\n",
    "\n",
    "## Solution"
   ]
  },
  {
   "cell_type": "code",
   "execution_count": 1,
   "metadata": {},
   "outputs": [
    {
     "data": {
      "application/vnd.jupyter.widget-view+json": {
       "model_id": "4a2a37f898304e71a78e0b9eb773292d",
       "version_major": 2,
       "version_minor": 0
      },
      "text/plain": [
       "Output()"
      ]
     },
     "metadata": {},
     "output_type": "display_data"
    }
   ],
   "source": [
    "# NBVAL_IGNORE_OUTPUT\n",
    "import discretisedfield as df\n",
    "import micromagneticmodel as mm\n",
    "\n",
    "import oommfc as oc\n",
    "\n",
    "Ms = 5.8e5  # saturation magnetisation (A/m)\n",
    "A = 15e-12  # exchange energy constant (J/)\n",
    "D = 3e-3  # Dzyaloshinkii-Moriya energy constant (J/m**2)\n",
    "K = 0.5e6  # uniaxial anisotropy constant (J/m**3)\n",
    "u = (0, 0, 1)  # easy axis\n",
    "gamma0 = 2.211e5  # gyromagnetic ratio (m/As)\n",
    "alpha = 0.3  # Gilbert damping\n",
    "\n",
    "system = mm.System(name='dw_pair_conversion')\n",
    "system.energy = mm.Exchange(A=A) + mm.DMI(D=D, crystalclass=\"Cnv_z\") + mm.UniaxialAnisotropy(K=K, u=u)\n",
    "system.dynamics = mm.Precession(gamma0=2.211e5) + mm.Damping(alpha=alpha)\n",
    "\n",
    "p1 = (0, 0, 0)\n",
    "p2 = (150e-9, 50e-9, 2e-9)\n",
    "cell = (2e-9, 2e-9, 2e-9)\n",
    "\n",
    "region = df.Region(p1=p1, p2=p2)\n",
    "mesh = df.Mesh(region=region, cell=cell)\n",
    "\n",
    "def Ms_fun(pos):\n",
    "    x, y, z = pos\n",
    "    if x < 50e-9 and (y < 15e-9 or y > 35e-9):\n",
    "        return 0\n",
    "    else:\n",
    "        return Ms\n",
    "    \n",
    "def m_init(pos):\n",
    "    x, y, z = pos\n",
    "    if 30e-9 < x < 40e-9:\n",
    "        return (0.1, 0.1, -1)\n",
    "    else:\n",
    "        return (0.1, 0.1, 1)\n",
    "    \n",
    "system.m = df.Field(mesh, dim=3, value=m_init, norm=Ms_fun)\n",
    "\n",
    "system.m.z.plane('z').k3d.scalar(filter_field=system.m.norm)"
   ]
  },
  {
   "cell_type": "code",
   "execution_count": 2,
   "metadata": {},
   "outputs": [
    {
     "name": "stdout",
     "output_type": "stream",
     "text": [
      "Running OOMMF (ExeOOMMFRunner) [2021/09/22 13:57]...  <1> mmarchive killed\n",
      " <2> mmarchive killed\n",
      "(1.5 s)\n"
     ]
    },
    {
     "data": {
      "application/vnd.jupyter.widget-view+json": {
       "model_id": "af8badc16d1e478682a80fa34310ee49",
       "version_major": 2,
       "version_minor": 0
      },
      "text/plain": [
       "Output()"
      ]
     },
     "metadata": {},
     "output_type": "display_data"
    }
   ],
   "source": [
    "# NBVAL_IGNORE_OUTPUT\n",
    "md = oc.MinDriver()\n",
    "md.drive(system)\n",
    "\n",
    "system.m.z.plane('z').k3d.scalar(filter_field=system.m.norm)"
   ]
  },
  {
   "cell_type": "code",
   "execution_count": 3,
   "metadata": {},
   "outputs": [],
   "source": [
    "ux = 400  # velocity in x direction (m/s)\n",
    "beta = 0.5  # non-adiabatic STT parameter\n",
    "\n",
    "system.dynamics += mm.ZhangLi(u=ux, beta=beta)"
   ]
  },
  {
   "cell_type": "code",
   "execution_count": 4,
   "metadata": {},
   "outputs": [
    {
     "name": "stdout",
     "output_type": "stream",
     "text": [
      "Running OOMMF (ExeOOMMFRunner) [2021/09/22 13:57]...  <1> mmarchive killed\n",
      " <2> mmarchive killed\n",
      " <3> mmarchive killed\n",
      "(5.1 s)\n"
     ]
    },
    {
     "data": {
      "application/vnd.jupyter.widget-view+json": {
       "model_id": "c7616afe8f1d4b83be0a80e78afc55c2",
       "version_major": 2,
       "version_minor": 0
      },
      "text/plain": [
       "Output()"
      ]
     },
     "metadata": {},
     "output_type": "display_data"
    }
   ],
   "source": [
    "# NBVAL_IGNORE_OUTPUT\n",
    "td = oc.TimeDriver()\n",
    "td.drive(system, t=0.2e-9, n=200)\n",
    "\n",
    "system.m.z.plane('z').k3d.scalar(filter_field=system.m.norm)"
   ]
  },
  {
   "cell_type": "markdown",
   "metadata": {},
   "source": [
    "As a result, we got a skyrmion formed in the wider region."
   ]
  }
 ],
 "metadata": {
  "kernelspec": {
   "display_name": "Python 3 (ipykernel)",
   "language": "python",
   "name": "python3"
  },
  "language_info": {
   "codemirror_mode": {
    "name": "ipython",
    "version": 3
   },
   "file_extension": ".py",
   "mimetype": "text/x-python",
   "name": "python",
   "nbconvert_exporter": "python",
   "pygments_lexer": "ipython3",
   "version": "3.8.10"
  },
  "widgets": {
   "application/vnd.jupyter.widget-state+json": {
    "state": {
     "249d8672bd254ed48565b21d938dc86c": {
      "model_module": "@jupyter-widgets/base",
      "model_module_version": "1.2.0",
      "model_name": "LayoutModel",
      "state": {}
     },
     "36d1820a7fbf49ae926a5c48377c9f5b": {
      "model_module": "@jupyter-widgets/base",
      "model_module_version": "1.2.0",
      "model_name": "LayoutModel",
      "state": {}
     },
     "49d4d253452849c28b285c2e79e0f4bb": {
      "buffers": [
       {
        "data": "TiIAAE8jAABRJAAAUyUAAFQlAABWJgAAWCcAAFkoAABbKAAAXSkAAF8qAABhKgAAYisAAGQsAABmLAAAaC0AAGouAABsLgAAbS8AAG8wAABwMAAAcDEAAHExAABxMgEAcTMFAHAzCABwNAwAcDUPAHA1EgBwNhQAcDcWAG83GABvOBoAbzkcAG86HgBvOiAAbjshAG48IwBuPCQAbj0mAG4+JwBuPykAbT8qAG1AKwBtQS0AbUEuAG1CLwBtQzEAbUMyAG1EMwBsRTQAbEU1AGxGNgBsRzgAbEg5AGxIOgBsSTsAbEo8AGxKPQBsSz4AbEw/AGxMQABsTUEAbE5CAGxOQwBsT0QAbFBFAGxRRgBsUUcAbFJIAGxTSQBsU0oAbFRLAGxVTABsVU0AbFZOAGxXTwBsV1AAbVhRAG1ZUgBtWlMAbVpUAG1bVQBtXFUAbVxWAG1dVwBtXlgAbl5ZAG5fWgBuYFsAbmFcAG5hXQBuYl4Ab2NeAG9jXwBvZGAAb2VhAG9lYgBwZmMAcGdkAHBoZQBwaGUAcGlmAHFqZwBxamgAcWtpAHFsagBybWsAcm1sAHJubAByb20Ac29uAHNwbwBzcXAAdHJxAHRycgB0c3IAdXRzAHV0dAB1dXUAdnZ2AHZ3dwB3d3cAd3h4AHd5eQB4enoAeHp7AHh7fAB4fH0AeHx+AHh9fgB4fn8AeH+AAHh/gQB5gIIAeYGDAHmChAB5goUAeYOGAHiEhwB4hYgAeIWJAHiGigB4h4sAeIiMAHiIjQB4iY4AeIqPAHiLkAB4i5EAeIySAHiNkgB4jpMAd46UAHePlQB3kJYAd5GXAHeSmAB3kpkAdpOaAHaUmwB2lZwAdpWdAHaWngB1l58AdZigAHWZoQB1maIAdJqjAHSbpAB0nKUAdJymAHOdpwBznqgAc5+pAHOgqgByoKsAcqGsAHKirQBxo64AcaSvAHGlsABwpbEAcKazAG+ntABvqLUAb6m2AG6ptwBuqrgAbau5AG2sugBtrbsAbK68AGyuvQBrr74Aa7C/AGqxwABqssEAabPCAGmzwwBotMQAaLXFAGe2xgBnt8cAZrjIAGW5yQBlucsAZLrMAGO7zQBjvM4AYr3PAGK+0ABhv9EAYMDSAF/A0wBfwdQAXsLVAF3D1gBcxNcAXMXZAFvG2gBax9sAWcjcAFjI3QBYyd4AV8rfAFbL4ABVzOEAVM3iAFPO5ABSz+UAUdDmAFDR5wBP0ugATtPpAEzT6gBL1OsAStXtAEnW7gBI1+8ARtjwAEXZ8QBE2vIAQtvzAEHc9QA/3fYAPt73ADzf+AA64PkAOOH7ADbi/AA04/0ANOT+ADXl/gA25v4AOOj+AA==",
        "encoding": "base64",
        "path": [
         "color_map",
         "data"
        ]
       },
       {
        "data": "AAAWQwAAAAAAAAAAAACWQgAAAAAAAEhCAAAAAAAAyEEAAAAAAAAAAAAAAEAAAIA/AAAAAAAAAAAAAAAAAACAPw==",
        "encoding": "base64",
        "path": [
         "model_matrix",
         "data"
        ]
       },
       {
        "data": "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",
        "encoding": "base64",
        "path": [
         "voxels",
         "data"
        ]
       }
      ],
      "model_module": "k3d",
      "model_module_version": "2.11.0",
      "model_name": "ObjectModel",
      "state": {
       "_view_count": null,
       "_view_module": null,
       "_view_module_version": "",
       "_view_name": null,
       "colorLegend": false,
       "color_map": {
        "dtype": "uint32",
        "shape": [
         256
        ]
       },
       "compression_level": 0,
       "id": 139926636646800,
       "model_matrix": {
        "dtype": "float32",
        "shape": [
         4,
         4
        ]
       },
       "name": "Voxels #1",
       "opacity": 1,
       "outlines": false,
       "outlines_color": 0,
       "type": "Voxels",
       "visible": true,
       "voxels": {
        "dtype": "uint8",
        "shape": [
         1,
         25,
         75
        ]
       },
       "wireframe": false
      }
     },
     "4a2a37f898304e71a78e0b9eb773292d": {
      "model_module": "@jupyter-widgets/output",
      "model_module_version": "1.0.0",
      "model_name": "OutputModel",
      "state": {
       "layout": "IPY_MODEL_6c38796b916140928de86ea79a27d1b6",
       "outputs": [
        {
         "data": {
          "application/vnd.jupyter.widget-view+json": {
           "model_id": "a836b50fb8964147a0cf0397ad4b7ef4",
           "version_major": 2,
           "version_minor": 0
          },
          "text/plain": "Plot(antialias=3, axes=['x', 'y', 'z'], axes_helper=1.0, background_color=16777215, camera_animation=[], camer…"
         },
         "metadata": {},
         "output_type": "display_data"
        }
       ]
      }
     },
     "6122fa69c176448a92ff8754444b56c0": {
      "buffers": [
       {
        "data": "TiIAAE8jAABRJAAAUyUAAFQlAABWJgAAWCcAAFkoAABbKAAAXSkAAF8qAABhKgAAYisAAGQsAABmLAAAaC0AAGouAABsLgAAbS8AAG8wAABwMAAAcDEAAHExAABxMgEAcTMFAHAzCABwNAwAcDUPAHA1EgBwNhQAcDcWAG83GABvOBoAbzkcAG86HgBvOiAAbjshAG48IwBuPCQAbj0mAG4+JwBuPykAbT8qAG1AKwBtQS0AbUEuAG1CLwBtQzEAbUMyAG1EMwBsRTQAbEU1AGxGNgBsRzgAbEg5AGxIOgBsSTsAbEo8AGxKPQBsSz4AbEw/AGxMQABsTUEAbE5CAGxOQwBsT0QAbFBFAGxRRgBsUUcAbFJIAGxTSQBsU0oAbFRLAGxVTABsVU0AbFZOAGxXTwBsV1AAbVhRAG1ZUgBtWlMAbVpUAG1bVQBtXFUAbVxWAG1dVwBtXlgAbl5ZAG5fWgBuYFsAbmFcAG5hXQBuYl4Ab2NeAG9jXwBvZGAAb2VhAG9lYgBwZmMAcGdkAHBoZQBwaGUAcGlmAHFqZwBxamgAcWtpAHFsagBybWsAcm1sAHJubAByb20Ac29uAHNwbwBzcXAAdHJxAHRycgB0c3IAdXRzAHV0dAB1dXUAdnZ2AHZ3dwB3d3cAd3h4AHd5eQB4enoAeHp7AHh7fAB4fH0AeHx+AHh9fgB4fn8AeH+AAHh/gQB5gIIAeYGDAHmChAB5goUAeYOGAHiEhwB4hYgAeIWJAHiGigB4h4sAeIiMAHiIjQB4iY4AeIqPAHiLkAB4i5EAeIySAHiNkgB4jpMAd46UAHePlQB3kJYAd5GXAHeSmAB3kpkAdpOaAHaUmwB2lZwAdpWdAHaWngB1l58AdZigAHWZoQB1maIAdJqjAHSbpAB0nKUAdJymAHOdpwBznqgAc5+pAHOgqgByoKsAcqGsAHKirQBxo64AcaSvAHGlsABwpbEAcKazAG+ntABvqLUAb6m2AG6ptwBuqrgAbau5AG2sugBtrbsAbK68AGyuvQBrr74Aa7C/AGqxwABqssEAabPCAGmzwwBotMQAaLXFAGe2xgBnt8cAZrjIAGW5yQBlucsAZLrMAGO7zQBjvM4AYr3PAGK+0ABhv9EAYMDSAF/A0wBfwdQAXsLVAF3D1gBcxNcAXMXZAFvG2gBax9sAWcjcAFjI3QBYyd4AV8rfAFbL4ABVzOEAVM3iAFPO5ABSz+UAUdDmAFDR5wBP0ugATtPpAEzT6gBL1OsAStXtAEnW7gBI1+8ARtjwAEXZ8QBE2vIAQtvzAEHc9QA/3fYAPt73ADzf+AA64PkAOOH7ADbi/AA04/0ANOT+ADXl/gA25v4AOOj+AA==",
        "encoding": "base64",
        "path": [
         "color_map",
         "data"
        ]
       },
       {
        "data": "AAAWQwAAAAAAAAAAAACWQgAAAAAAAEhCAAAAAAAAyEEAAAAAAAAAAAAAAEAAAIA/AAAAAAAAAAAAAAAAAACAPw==",
        "encoding": "base64",
        "path": [
         "model_matrix",
         "data"
        ]
       },
       {
        "data": "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",
        "encoding": "base64",
        "path": [
         "voxels",
         "data"
        ]
       }
      ],
      "model_module": "k3d",
      "model_module_version": "2.11.0",
      "model_name": "ObjectModel",
      "state": {
       "_view_count": null,
       "_view_module": null,
       "_view_module_version": "",
       "_view_name": null,
       "colorLegend": false,
       "color_map": {
        "dtype": "uint32",
        "shape": [
         256
        ]
       },
       "compression_level": 0,
       "id": 139926636648960,
       "model_matrix": {
        "dtype": "float32",
        "shape": [
         4,
         4
        ]
       },
       "name": "Voxels #1",
       "opacity": 1,
       "outlines": false,
       "outlines_color": 0,
       "type": "Voxels",
       "visible": true,
       "voxels": {
        "dtype": "uint8",
        "shape": [
         1,
         25,
         75
        ]
       },
       "wireframe": false
      }
     },
     "6c38796b916140928de86ea79a27d1b6": {
      "model_module": "@jupyter-widgets/base",
      "model_module_version": "1.2.0",
      "model_name": "LayoutModel",
      "state": {}
     },
     "92f45941b5db4c27b46562379220a0f5": {
      "model_module": "@jupyter-widgets/base",
      "model_module_version": "1.2.0",
      "model_name": "LayoutModel",
      "state": {}
     },
     "a62fb267b7c74896ba41ae87c8ca2696": {
      "buffers": [
       {
        "data": "TiIAAE8jAABRJAAAUyUAAFQlAABWJgAAWCcAAFkoAABbKAAAXSkAAF8qAABhKgAAYisAAGQsAABmLAAAaC0AAGouAABsLgAAbS8AAG8wAABwMAAAcDEAAHExAABxMgEAcTMFAHAzCABwNAwAcDUPAHA1EgBwNhQAcDcWAG83GABvOBoAbzkcAG86HgBvOiAAbjshAG48IwBuPCQAbj0mAG4+JwBuPykAbT8qAG1AKwBtQS0AbUEuAG1CLwBtQzEAbUMyAG1EMwBsRTQAbEU1AGxGNgBsRzgAbEg5AGxIOgBsSTsAbEo8AGxKPQBsSz4AbEw/AGxMQABsTUEAbE5CAGxOQwBsT0QAbFBFAGxRRgBsUUcAbFJIAGxTSQBsU0oAbFRLAGxVTABsVU0AbFZOAGxXTwBsV1AAbVhRAG1ZUgBtWlMAbVpUAG1bVQBtXFUAbVxWAG1dVwBtXlgAbl5ZAG5fWgBuYFsAbmFcAG5hXQBuYl4Ab2NeAG9jXwBvZGAAb2VhAG9lYgBwZmMAcGdkAHBoZQBwaGUAcGlmAHFqZwBxamgAcWtpAHFsagBybWsAcm1sAHJubAByb20Ac29uAHNwbwBzcXAAdHJxAHRycgB0c3IAdXRzAHV0dAB1dXUAdnZ2AHZ3dwB3d3cAd3h4AHd5eQB4enoAeHp7AHh7fAB4fH0AeHx+AHh9fgB4fn8AeH+AAHh/gQB5gIIAeYGDAHmChAB5goUAeYOGAHiEhwB4hYgAeIWJAHiGigB4h4sAeIiMAHiIjQB4iY4AeIqPAHiLkAB4i5EAeIySAHiNkgB4jpMAd46UAHePlQB3kJYAd5GXAHeSmAB3kpkAdpOaAHaUmwB2lZwAdpWdAHaWngB1l58AdZigAHWZoQB1maIAdJqjAHSbpAB0nKUAdJymAHOdpwBznqgAc5+pAHOgqgByoKsAcqGsAHKirQBxo64AcaSvAHGlsABwpbEAcKazAG+ntABvqLUAb6m2AG6ptwBuqrgAbau5AG2sugBtrbsAbK68AGyuvQBrr74Aa7C/AGqxwABqssEAabPCAGmzwwBotMQAaLXFAGe2xgBnt8cAZrjIAGW5yQBlucsAZLrMAGO7zQBjvM4AYr3PAGK+0ABhv9EAYMDSAF/A0wBfwdQAXsLVAF3D1gBcxNcAXMXZAFvG2gBax9sAWcjcAFjI3QBYyd4AV8rfAFbL4ABVzOEAVM3iAFPO5ABSz+UAUdDmAFDR5wBP0ugATtPpAEzT6gBL1OsAStXtAEnW7gBI1+8ARtjwAEXZ8QBE2vIAQtvzAEHc9QA/3fYAPt73ADzf+AA64PkAOOH7ADbi/AA04/0ANOT+ADXl/gA25v4AOOj+AA==",
        "encoding": "base64",
        "path": [
         "color_map",
         "data"
        ]
       },
       {
        "data": "AAAWQwAAAAAAAAAAAACWQgAAAAAAAEhCAAAAAAAAyEEAAAAAAAAAAAAAAEAAAIA/AAAAAAAAAAAAAAAAAACAPw==",
        "encoding": "base64",
        "path": [
         "model_matrix",
         "data"
        ]
       },
       {
        "data": "AAAAAAAAAAAAAAAAAAAAAAAAAAAAAAAAAP//////////////////////////////////////////////////////////////////AAAAAAAAAAAAAAAAAAAAAAAAAAAAAAAAAP//////////////////////////////////////////////////////////////////AAAAAAAAAAAAAAAAAAAAAAAAAAAAAAAAAP//////////////////////////////////////////////////////////////////AAAAAAAAAAAAAAAAAAAAAAAAAAAAAAAAAP//////////////////////////////////////////////////////////////////AAAAAAAAAAAAAAAAAAAAAAAAAAAAAAAAAP//////////////////////////////////////////////////////////////////AAAAAAAAAAAAAAAAAAAAAAAAAAAAAAAAAP//////////////////////////////////////////////////////////////////AAAAAAAAAAAAAAAAAAAAAAAAAAAAAAAAAP//////////////////////////////////////////////////////////////////////////////////////AQEBAQH/////////////////////////////////////////////////////////////////////////////////////////////AQEBAQH/////////////////////////////////////////////////////////////////////////////////////////////AQEBAQH/////////////////////////////////////////////////////////////////////////////////////////////AQEBAQH/////////////////////////////////////////////////////////////////////////////////////////////AQEBAQH/////////////////////////////////////////////////////////////////////////////////////////////AQEBAQH/////////////////////////////////////////////////////////////////////////////////////////////AQEBAQH/////////////////////////////////////////////////////////////////////////////////////////////AQEBAQH/////////////////////////////////////////////////////////////////////////////////////////////AQEBAQH/////////////////////////////////////////////////////////////////////////////////////////////AQEBAQH/////////////////////////////////////////////////////////////////////////////////////////////AQEBAQH/////////////////////////////////////////////////////////////////////////AAAAAAAAAAAAAAAAAAAAAAAAAAAAAAAAAP//////////////////////////////////////////////////////////////////AAAAAAAAAAAAAAAAAAAAAAAAAAAAAAAAAP//////////////////////////////////////////////////////////////////AAAAAAAAAAAAAAAAAAAAAAAAAAAAAAAAAP//////////////////////////////////////////////////////////////////AAAAAAAAAAAAAAAAAAAAAAAAAAAAAAAAAP//////////////////////////////////////////////////////////////////AAAAAAAAAAAAAAAAAAAAAAAAAAAAAAAAAP//////////////////////////////////////////////////////////////////AAAAAAAAAAAAAAAAAAAAAAAAAAAAAAAAAP//////////////////////////////////////////////////////////////////AAAAAAAAAAAAAAAAAAAAAAAAAAAAAAAAAP//////////////////////////////////////////////////////////////////",
        "encoding": "base64",
        "path": [
         "voxels",
         "data"
        ]
       }
      ],
      "model_module": "k3d",
      "model_module_version": "2.11.0",
      "model_name": "ObjectModel",
      "state": {
       "_view_count": null,
       "_view_module": null,
       "_view_module_version": "",
       "_view_name": null,
       "colorLegend": false,
       "color_map": {
        "dtype": "uint32",
        "shape": [
         256
        ]
       },
       "compression_level": 0,
       "id": 139927197556592,
       "model_matrix": {
        "dtype": "float32",
        "shape": [
         4,
         4
        ]
       },
       "name": "Voxels #1",
       "opacity": 1,
       "outlines": false,
       "outlines_color": 0,
       "type": "Voxels",
       "visible": true,
       "voxels": {
        "dtype": "uint8",
        "shape": [
         1,
         25,
         75
        ]
       },
       "wireframe": false
      }
     },
     "a836b50fb8964147a0cf0397ad4b7ef4": {
      "model_module": "k3d",
      "model_module_version": "2.11.0",
      "model_name": "PlotModel",
      "state": {
       "_backend_version": "2.11.0",
       "_dom_classes": [],
       "_view_count": null,
       "antialias": 3,
       "auto_rendering": true,
       "axes": [
        "x\\,\\text{ (nm)}",
        "y\\,\\text{ (nm)}",
        "z\\,\\text{ (nm)}"
       ],
       "axes_helper": 1,
       "background_color": 16777215,
       "camera": [
        206.48209107302378,
        -172.4731365178586,
        14.15820910087414,
        74.90000006428454,
        24.899999995250255,
        1,
        0,
        0,
        1
       ],
       "camera_animation": [],
       "camera_auto_fit": true,
       "camera_damping_factor": 0,
       "camera_fov": 60,
       "camera_mode": "trackball",
       "camera_no_pan": false,
       "camera_no_rotate": false,
       "camera_no_zoom": false,
       "camera_pan_speed": 0.3,
       "camera_rotate_speed": 1,
       "camera_zoom_speed": 1.2,
       "clipping_planes": [],
       "colorbar_object_id": -1,
       "colorbar_scientific": false,
       "fps": 25,
       "fps_meter": false,
       "grid": [
        -1,
        -1,
        -1,
        1,
        1,
        1
       ],
       "grid_auto_fit": true,
       "grid_color": 15132390,
       "grid_visible": true,
       "height": 512,
       "label_color": 4473924,
       "layout": "IPY_MODEL_249d8672bd254ed48565b21d938dc86c",
       "lighting": 1.5,
       "manipulate_mode": "translate",
       "menu_visibility": true,
       "mode": "view",
       "name": null,
       "object_ids": [
        139927197556592
       ],
       "rendering_steps": 1,
       "screenshot": "",
       "screenshot_scale": 2,
       "snapshot": "",
       "snapshot_type": "full",
       "time": 0,
       "voxel_paint_color": 0
      }
     },
     "af861ac29662465b941a023e039c873e": {
      "model_module": "k3d",
      "model_module_version": "2.11.0",
      "model_name": "PlotModel",
      "state": {
       "_backend_version": "2.11.0",
       "_dom_classes": [],
       "_view_count": null,
       "antialias": 3,
       "auto_rendering": true,
       "axes": [
        "x\\,\\text{ (nm)}",
        "y\\,\\text{ (nm)}",
        "z\\,\\text{ (nm)}"
       ],
       "axes_helper": 1,
       "background_color": 16777215,
       "camera": [
        206.48209107302378,
        -172.4731365178586,
        14.15820910087414,
        74.90000006428454,
        24.899999995250255,
        1,
        0,
        0,
        1
       ],
       "camera_animation": [],
       "camera_auto_fit": true,
       "camera_damping_factor": 0,
       "camera_fov": 60,
       "camera_mode": "trackball",
       "camera_no_pan": false,
       "camera_no_rotate": false,
       "camera_no_zoom": false,
       "camera_pan_speed": 0.3,
       "camera_rotate_speed": 1,
       "camera_zoom_speed": 1.2,
       "clipping_planes": [],
       "colorbar_object_id": -1,
       "colorbar_scientific": false,
       "fps": 25,
       "fps_meter": false,
       "grid": [
        -1,
        -1,
        -1,
        1,
        1,
        1
       ],
       "grid_auto_fit": true,
       "grid_color": 15132390,
       "grid_visible": true,
       "height": 512,
       "label_color": 4473924,
       "layout": "IPY_MODEL_ec8f1a9160ef42769408a7bc0de5ffe3",
       "lighting": 1.5,
       "manipulate_mode": "translate",
       "menu_visibility": true,
       "mode": "view",
       "name": null,
       "object_ids": [
        139926636648960
       ],
       "rendering_steps": 1,
       "screenshot": "",
       "screenshot_scale": 2,
       "snapshot": "",
       "snapshot_type": "full",
       "time": 0,
       "voxel_paint_color": 0
      }
     },
     "af8badc16d1e478682a80fa34310ee49": {
      "model_module": "@jupyter-widgets/output",
      "model_module_version": "1.0.0",
      "model_name": "OutputModel",
      "state": {
       "layout": "IPY_MODEL_92f45941b5db4c27b46562379220a0f5",
       "outputs": [
        {
         "data": {
          "application/vnd.jupyter.widget-view+json": {
           "model_id": "af861ac29662465b941a023e039c873e",
           "version_major": 2,
           "version_minor": 0
          },
          "text/plain": "Plot(antialias=3, axes=['x', 'y', 'z'], axes_helper=1.0, background_color=16777215, camera_animation=[], camer…"
         },
         "metadata": {},
         "output_type": "display_data"
        }
       ]
      }
     },
     "c7616afe8f1d4b83be0a80e78afc55c2": {
      "model_module": "@jupyter-widgets/output",
      "model_module_version": "1.0.0",
      "model_name": "OutputModel",
      "state": {
       "layout": "IPY_MODEL_d453119142a34c13b2cd8bb5d5955672",
       "outputs": [
        {
         "data": {
          "application/vnd.jupyter.widget-view+json": {
           "model_id": "f6e1799b995c4f5c8bf74f8d151a5d24",
           "version_major": 2,
           "version_minor": 0
          },
          "text/plain": "Plot(antialias=3, axes=['x', 'y', 'z'], axes_helper=1.0, background_color=16777215, camera_animation=[], camer…"
         },
         "metadata": {},
         "output_type": "display_data"
        }
       ]
      }
     },
     "d453119142a34c13b2cd8bb5d5955672": {
      "model_module": "@jupyter-widgets/base",
      "model_module_version": "1.2.0",
      "model_name": "LayoutModel",
      "state": {}
     },
     "ec8f1a9160ef42769408a7bc0de5ffe3": {
      "model_module": "@jupyter-widgets/base",
      "model_module_version": "1.2.0",
      "model_name": "LayoutModel",
      "state": {}
     },
     "f6e1799b995c4f5c8bf74f8d151a5d24": {
      "model_module": "k3d",
      "model_module_version": "2.11.0",
      "model_name": "PlotModel",
      "state": {
       "_backend_version": "2.11.0",
       "_dom_classes": [],
       "_view_count": null,
       "antialias": 3,
       "auto_rendering": true,
       "axes": [
        "x\\,\\text{ (nm)}",
        "y\\,\\text{ (nm)}",
        "z\\,\\text{ (nm)}"
       ],
       "axes_helper": 1,
       "background_color": 16777215,
       "camera": [
        206.48209107302378,
        -172.4731365178586,
        14.15820910087414,
        74.90000006428454,
        24.899999995250255,
        1,
        0,
        0,
        1
       ],
       "camera_animation": [],
       "camera_auto_fit": true,
       "camera_damping_factor": 0,
       "camera_fov": 60,
       "camera_mode": "trackball",
       "camera_no_pan": false,
       "camera_no_rotate": false,
       "camera_no_zoom": false,
       "camera_pan_speed": 0.3,
       "camera_rotate_speed": 1,
       "camera_zoom_speed": 1.2,
       "clipping_planes": [],
       "colorbar_object_id": -1,
       "colorbar_scientific": false,
       "fps": 25,
       "fps_meter": false,
       "grid": [
        -1,
        -1,
        -1,
        1,
        1,
        1
       ],
       "grid_auto_fit": true,
       "grid_color": 15132390,
       "grid_visible": true,
       "height": 512,
       "label_color": 4473924,
       "layout": "IPY_MODEL_36d1820a7fbf49ae926a5c48377c9f5b",
       "lighting": 1.5,
       "manipulate_mode": "translate",
       "menu_visibility": true,
       "mode": "view",
       "name": null,
       "object_ids": [
        139926636646800
       ],
       "rendering_steps": 1,
       "screenshot": "",
       "screenshot_scale": 2,
       "snapshot": "",
       "snapshot_type": "full",
       "time": 0,
       "voxel_paint_color": 0
      }
     }
    },
    "version_major": 2,
    "version_minor": 0
   }
  }
 },
 "nbformat": 4,
 "nbformat_minor": 4
}
